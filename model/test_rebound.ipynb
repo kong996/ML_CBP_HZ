{
 "cells": [
  {
   "cell_type": "code",
   "execution_count": 1,
   "id": "hourly-fifth",
   "metadata": {},
   "outputs": [],
   "source": [
    "import rebound"
   ]
  },
  {
   "cell_type": "code",
   "execution_count": 2,
   "id": "general-bench",
   "metadata": {},
   "outputs": [],
   "source": [
    "sim = rebound.Simulation()\n",
    "sim.add(m=1.)\n",
    "sim.add(m=1e-3, a=1., e=0.1)\n",
    "sim.add(a=1.4, e=0.1)"
   ]
  },
  {
   "cell_type": "code",
   "execution_count": 3,
   "id": "amateur-salvation",
   "metadata": {},
   "outputs": [],
   "source": [
    "sim.integrate(100.)"
   ]
  },
  {
   "cell_type": "code",
   "execution_count": 4,
   "id": "purple-bacteria",
   "metadata": {},
   "outputs": [
    {
     "name": "stdout",
     "output_type": "stream",
     "text": [
      "0.0001379031111733169 0.11100285684422287 0.0\n",
      "0.7620968888266642 -0.3934338982350228 0.0\n",
      "-1.5948501191422428 0.20487096187200812 0.0\n",
      "<rebound.Orbit instance, a=0.9999999999999998 e=0.10000000000000006 inc=0.0 Omega=0.0 omega=0.0 f=5.698402270529936>\n",
      "<rebound.Orbit instance, a=1.4174273398342736 e=0.12988282793113465 inc=0.0 Omega=0.0 omega=0.09938842199489617 f=2.9831333920230048>\n"
     ]
    }
   ],
   "source": [
    "for p in sim.particles:\n",
    "    print(p.x, p.y, p.z)\n",
    "for o in sim.calculate_orbits():\n",
    "    print(o)"
   ]
  },
  {
   "cell_type": "markdown",
   "id": "persistent-sharing",
   "metadata": {},
   "source": [
    "## Unit\n",
    "## G=1"
   ]
  },
  {
   "cell_type": "code",
   "execution_count": 1,
   "id": "violent-action",
   "metadata": {},
   "outputs": [],
   "source": [
    "import rebound"
   ]
  },
  {
   "cell_type": "code",
   "execution_count": 4,
   "id": "efficient-radio",
   "metadata": {},
   "outputs": [],
   "source": [
    "sim = rebound.Simulation()\n",
    "sim.add(m=0.5)\n",
    "sim.add(m=0.5, a=1.)"
   ]
  },
  {
   "cell_type": "code",
   "execution_count": 5,
   "id": "engaged-fireplace",
   "metadata": {},
   "outputs": [
    {
     "name": "stdout",
     "output_type": "stream",
     "text": [
      "6.283185307179586\n"
     ]
    }
   ],
   "source": [
    "print(sim.particles[1].P)"
   ]
  },
  {
   "cell_type": "code",
   "execution_count": 2,
   "id": "lesser-salmon",
   "metadata": {},
   "outputs": [],
   "source": [
    "sim = rebound.Simulation()\n",
    "sim.add(m=1., hash=\"star\")\n",
    "sim.add(a=1., hash=\"planet\")\n",
    "p = sim.particles['planet']"
   ]
  },
  {
   "cell_type": "code",
   "execution_count": 3,
   "id": "surgical-recorder",
   "metadata": {},
   "outputs": [
    {
     "data": {
      "text/plain": [
       "<rebound.particle.Particle object at 0x7f3acc46c050, m=0.0 x=1.0 y=0.0 z=0.0 vx=0.0 vy=1.0 vz=0.0>"
      ]
     },
     "execution_count": 3,
     "metadata": {},
     "output_type": "execute_result"
    }
   ],
   "source": [
    "p"
   ]
  },
  {
   "cell_type": "code",
   "execution_count": 4,
   "id": "persistent-separate",
   "metadata": {},
   "outputs": [
    {
     "data": {
      "text/plain": [
       "1.0"
      ]
     },
     "execution_count": 4,
     "metadata": {},
     "output_type": "execute_result"
    }
   ],
   "source": [
    "p.x"
   ]
  },
  {
   "cell_type": "code",
   "execution_count": 2,
   "id": "killing-professional",
   "metadata": {},
   "outputs": [
    {
     "name": "stdout",
     "output_type": "stream",
     "text": [
      "1.0000000000000002 0.10000000000000023\n"
     ]
    }
   ],
   "source": [
    "sim = rebound.Simulation()\n",
    "sim.add(m=1) # star\n",
    "sim.add(a=1, e=0.1) # planet\n",
    "o = sim.particles[1].calculate_orbit(primary=sim.particles[0])\n",
    "print(o.a, o.e)"
   ]
  },
  {
   "cell_type": "code",
   "execution_count": 26,
   "id": "corrected-organizer",
   "metadata": {},
   "outputs": [
    {
     "name": "stdout",
     "output_type": "stream",
     "text": [
      "1.0000000000000002 0.10000000000000023 0.0\n",
      "2.0000000000000004 0.10000000000000023 1.3867225487012695\n"
     ]
    }
   ],
   "source": [
    "sim = rebound.Simulation()\n",
    "sim.add(m=1)\n",
    "sim.add(a=1, e=0.1)\n",
    "sim.add(m=1, a=2, e=0.1)\n",
    "orbits = sim.calculate_orbits()\n",
    "for o in orbits:\n",
    "    print(o.a, o.e, o.rhill)"
   ]
  },
  {
   "cell_type": "markdown",
   "id": "dense-peninsula",
   "metadata": {},
   "source": [
    "## Catching close encounters"
   ]
  },
  {
   "cell_type": "code",
   "execution_count": 8,
   "id": "contemporary-projector",
   "metadata": {},
   "outputs": [],
   "source": [
    "import rebound\n",
    "import numpy as np"
   ]
  },
  {
   "cell_type": "code",
   "execution_count": 11,
   "id": "billion-farmer",
   "metadata": {},
   "outputs": [],
   "source": [
    "def setupSimulation():\n",
    "    sim = rebound.Simulation()\n",
    "    sim.add(m=1.)\n",
    "    sim.add(m=1e-3, a=1., hash=\"planet1\")\n",
    "    sim.add(m=5e-3, a=1.25, hash=\"planet2\")\n",
    "    sim.move_to_com()\n",
    "    return sim"
   ]
  },
  {
   "cell_type": "code",
   "execution_count": 12,
   "id": "suspended-jersey",
   "metadata": {},
   "outputs": [],
   "source": [
    "sim = setupSimulation()\n",
    "sim.integrate(100.*2.*np.pi)"
   ]
  },
  {
   "cell_type": "code",
   "execution_count": 20,
   "id": "special-antigua",
   "metadata": {},
   "outputs": [],
   "source": [
    "p1 = sim.particles['planet2']"
   ]
  },
  {
   "cell_type": "code",
   "execution_count": 21,
   "id": "satisfied-decrease",
   "metadata": {},
   "outputs": [
    {
     "name": "stdout",
     "output_type": "stream",
     "text": [
      "1.041932973328092 6.662551071192539 0.1234936630448223\n"
     ]
    }
   ],
   "source": [
    "o = p1.calculate_orbit()\n",
    "print(o.a, o.P, o.rhill)"
   ]
  },
  {
   "cell_type": "code",
   "execution_count": 17,
   "id": "saved-fireplace",
   "metadata": {},
   "outputs": [
    {
     "data": {
      "text/plain": [
       "66.8083960688059"
      ]
     },
     "execution_count": 17,
     "metadata": {},
     "output_type": "execute_result"
    }
   ],
   "source": [
    "p1.P"
   ]
  },
  {
   "cell_type": "code",
   "execution_count": 18,
   "id": "hairy-performer",
   "metadata": {},
   "outputs": [
    {
     "name": "stdout",
     "output_type": "stream",
     "text": [
      "<rebound.Orbit instance, a=4.837030329030001 e=0.7208042847009366 inc=0.0 Omega=0.0 omega=2.733906576934375 f=4.136442889245854>\n",
      "<rebound.Orbit instance, a=1.041932973328092 e=0.12308142899763105 inc=0.0 Omega=0.0 omega=5.929056516502594 f=4.858705541543642>\n"
     ]
    }
   ],
   "source": [
    "for o in sim.calculate_orbits():\n",
    "    print(o)"
   ]
  },
  {
   "cell_type": "code",
   "execution_count": 27,
   "id": "activated-postcard",
   "metadata": {},
   "outputs": [
    {
     "name": "stdout",
     "output_type": "stream",
     "text": [
      "Two particles had a close encounter (d<exit_min_distance).\n"
     ]
    }
   ],
   "source": [
    "sim = setupSimulation() # Resets everything\n",
    "sim.exit_min_distance = 0.15\n",
    "Noutputs = 1000\n",
    "times = np.linspace(0,100.*2.*np.pi,Noutputs)\n",
    "distances = np.zeros(Noutputs)\n",
    "ps = sim.particles # ps is now an array of pointers. It will update as the simulation runs.\n",
    "try:\n",
    "    for i,time in enumerate(times):\n",
    "        sim.integrate(time)\n",
    "        dp = ps[1] - ps[2]   # Calculates the coponentwise difference between particles \n",
    "        distances[i] = np.sqrt(dp.x*dp.x+dp.y*dp.y+dp.z*dp.z)\n",
    "except rebound.Encounter as error:\n",
    "    print(error)"
   ]
  },
  {
   "cell_type": "code",
   "execution_count": 28,
   "id": "configured-bishop",
   "metadata": {},
   "outputs": [
    {
     "data": {
      "image/png": "[encoded data removed]",
      "text/plain": [
       "<Figure size 720x360 with 1 Axes>"
      ]
     },
     "metadata": {
      "needs_background": "light"
     },
     "output_type": "display_data"
    }
   ],
   "source": [
    "%matplotlib inline\n",
    "import matplotlib.pyplot as plt\n",
    "fig = plt.figure(figsize=(10,5))\n",
    "ax = plt.subplot(111)\n",
    "ax.set_xlabel(\"time [orbits]\")\n",
    "ax.set_xlim([0,sim.t/(2.*np.pi)])\n",
    "ax.set_ylabel(\"distance\")\n",
    "plt.plot(times/(2.*np.pi), distances);\n",
    "plt.plot([0.0,12],[0.2,0.2]); # Plot our close encounter criteria;"
   ]
  },
  {
   "cell_type": "code",
   "execution_count": null,
   "id": "linear-audio",
   "metadata": {},
   "outputs": [],
   "source": []
  }
 ],
 "metadata": {
  "kernelspec": {
   "display_name": "Python 3",
   "language": "python",
   "name": "python3"
  },
  "language_info": {
   "codemirror_mode": {
    "name": "ipython",
    "version": 3
   },
   "file_extension": ".py",
   "mimetype": "text/x-python",
   "name": "python",
   "nbconvert_exporter": "python",
   "pygments_lexer": "ipython3",
   "version": "3.7.9"
  }
 },
 "nbformat": 4,
 "nbformat_minor": 5
}
